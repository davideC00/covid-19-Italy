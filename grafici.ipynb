{
 "cells": [
  {
   "cell_type": "code",
   "execution_count": null,
   "metadata": {
    "execution": {
     "iopub.execute_input": "2020-05-02T22:41:31.889312Z",
     "iopub.status.busy": "2020-05-02T22:41:31.888730Z",
     "iopub.status.idle": "2020-05-02T22:41:33.866677Z",
     "shell.execute_reply": "2020-05-02T22:41:33.865500Z"
    },
    "papermill": {
     "duration": 1.99332,
     "end_time": "2020-05-02T22:41:33.866866",
     "exception": false,
     "start_time": "2020-05-02T22:41:31.873546",
     "status": "completed"
    },
    "tags": []
   },
   "outputs": [],
   "source": [
    "import pandas as pd\n",
    "import numpy as np\n",
    "import matplotlib.pyplot as plt\n",
    "import datetime as dt\n",
    "import matplotlib.dates as mdates\n",
    "import geopandas as gpd"
   ]
  },
  {
   "cell_type": "markdown",
   "metadata": {},
   "source": [
    "## Grafici generici"
   ]
  },
  {
   "cell_type": "code",
   "execution_count": null,
   "metadata": {
    "execution": {
     "iopub.execute_input": "2020-05-02T22:41:33.936441Z",
     "iopub.status.busy": "2020-05-02T22:41:33.935612Z",
     "iopub.status.idle": "2020-05-02T22:41:34.045953Z",
     "shell.execute_reply": "2020-05-02T22:41:34.046754Z"
    },
    "papermill": {
     "duration": 0.174325,
     "end_time": "2020-05-02T22:41:34.046967",
     "exception": false,
     "start_time": "2020-05-02T22:41:33.872642",
     "status": "completed"
    },
    "tags": []
   },
   "outputs": [],
   "source": [
    "def parse_data(s):\n",
    "    s = s.split(\"T\")[0]\n",
    "    mese = s.split(\"-\")[1]\n",
    "    giorno = s.split(\"-\")[2]\n",
    "    \n",
    "    return giorno + \"/\" + str(int(mese))\n",
    "\n",
    "def min_max_normalization( arr):\n",
    "    minv= min(arr)\n",
    "    maxv= max(arr)\n",
    "    arr = [(x-minv)/(maxv-minv) for x in arr]\n",
    "    return arr\n",
    "\n",
    "def create_figure():\n",
    "    fig = plt.figure()\n",
    "    fig.set_size_inches(20, 5)\n",
    "    ax = fig.add_axes([0.1, 0.2, 0.8, 0.9]) \n",
    "    plt.xticks(rotation=45)\n",
    "    return ax\n",
    "\n",
    "def hide_ticks(ax, factor):\n",
    "    for label in ax.xaxis.get_ticklabels()[::factor]:\n",
    "        label.set_visible(False)  \n",
    "\n",
    "dati = pd.read_csv('https://raw.githubusercontent.com/pcm-dpc/COVID-19/master/dati-andamento-nazionale/dpc-covid19-ita-andamento-nazionale.csv')\n",
    "\n",
    "giorni = list(map(parse_data, dati[\"data\"].values))\n",
    "percentages = [ str(x) + '%' for x in np.array([0.0, 25.0, 50.0, 75.0, 100.0])]\n",
    "\n",
    "\n",
    "# nuovi casi\n",
    "totale_casi = dati[\"totale_casi\"].values\n",
    "delta_totale_casi = [totale_casi[0]]\n",
    "for g in range(len(totale_casi) - 1):\n",
    "    delta_totale_casi += [totale_casi[g+1] - totale_casi[g]]\n",
    "    \n"
   ]
  },
  {
   "cell_type": "code",
   "execution_count": null,
   "metadata": {
    "execution": {
     "iopub.execute_input": "2020-05-02T22:41:36.611873Z",
     "iopub.status.busy": "2020-05-02T22:41:36.605053Z",
     "iopub.status.idle": "2020-05-02T22:41:37.886282Z",
     "shell.execute_reply": "2020-05-02T22:41:37.886746Z"
    },
    "papermill": {
     "duration": 1.298851,
     "end_time": "2020-05-02T22:41:37.886881",
     "exception": false,
     "start_time": "2020-05-02T22:41:36.588030",
     "status": "completed"
    },
    "tags": []
   },
   "outputs": [],
   "source": [
    "ax = create_figure()\n",
    "\n",
    "ax.set_xlabel('Giorni')\n",
    "ax.set_ylabel('Numero')\n",
    "\n",
    "bar1 = ax.bar(giorni, dati['dimessi_guariti'], label='dimessi guariti')\n",
    "bar2 = ax.bar(giorni, dati['ricoverati_con_sintomi'], label='ricoverati con sintomi')\n",
    "bar3 = ax.bar(giorni, dati['deceduti'], label='decessi', color='r')\n",
    "\n",
    "hide_ticks(ax, 2)\n",
    "\n",
    "ax2 = ax.twinx()\n",
    "line1 = ax2.plot(giorni, delta_totale_casi, label=\"nuovi casi\", color=\"k\", marker=\"o\", linestyle=\"-\")\n",
    "ax2.set_ylabel('Nuovi casi')\n",
    "\n",
    "arr = [bar1, bar2, bar3]+line1\n",
    "labs = [a.get_label() for a in arr]\n",
    "ax.legend(arr, labs, fontsize='x-large')\n",
    "\n",
    "plt.show()"
   ]
  },
  {
   "cell_type": "code",
   "execution_count": null,
   "metadata": {
    "execution": {
     "iopub.execute_input": "2020-05-02T22:41:34.075282Z",
     "iopub.status.busy": "2020-05-02T22:41:34.073955Z",
     "iopub.status.idle": "2020-05-02T22:41:34.987124Z",
     "shell.execute_reply": "2020-05-02T22:41:34.987921Z"
    },
    "papermill": {
     "duration": 0.935665,
     "end_time": "2020-05-02T22:41:34.988187",
     "exception": false,
     "start_time": "2020-05-02T22:41:34.052522",
     "status": "completed"
    },
    "tags": []
   },
   "outputs": [],
   "source": [
    "ax = create_figure()\n",
    "\n",
    "ax.set_xlabel('Giorni')\n",
    "ax.set_ylabel('Numero')\n",
    "ax.bar(giorni, dati['totale_ospedalizzati'], label='totale ospidalizzati')\n",
    "ax.bar(giorni, dati['terapia_intensiva'], label='terapia intensiva')\n",
    "hide_ticks(ax, 2)\n",
    "ax.legend(fontsize='x-large')\n",
    "\n",
    "plt.show()"
   ]
  },
  {
   "cell_type": "markdown",
   "metadata": {},
   "source": [
    "## Nuovi Positivi\n",
    "Il primo grafico mostra i nuovi positivi in relazione ai residenti nella regione.  \n",
    "Il secondo mostro i nuovi positivi effettivi in ogni regione.  \n",
    "I dati dei residenti nella regione provengono da [comuni-italiani.it](http://www.comuni-italiani.it/regioni.html) che a sua volta vengono dai dati ISTAT del 2019.  "
   ]
  },
  {
   "cell_type": "code",
   "execution_count": null,
   "metadata": {},
   "outputs": [],
   "source": [
    "# Caricamento dati regioni\n",
    "covid_df = pd.read_csv('https://raw.githubusercontent.com/pcm-dpc/COVID-19/master/dati-regioni/dpc-covid19-ita-regioni-latest.csv')\n",
    "covid_df = covid_df.replace(to_replace={'P.A. Bolzano': 'Trentino-Alto Adige', 'P.A. Trento': 'Trentino-Alto Adige', \n",
    "                                       'Friuli Venezia Giulia': 'Friuli-Venezia Giulia'}) \\\n",
    "                    .groupby('denominazione_regione', as_index=False) \\\n",
    "                    .sum(numeric_only=True)\n",
    "\n",
    "# Caricamento della shape dell'Italia\n",
    "fp = \"datasets/italy shape/ITA_adm1.shp\"\n",
    "map_df = gpd.read_file(fp)\n",
    "map_df = map_df.replace(to_replace={'Apulia': 'Puglia', 'Sicily': 'Sicilia'})\n",
    "\n",
    "# Caricamento dataset della popolazione italiana\n",
    "popolazione = pd.read_csv('datasets/popolazione_italiana.csv', thousands='.')\n",
    "\n",
    "# Unione dei tre dataset\n",
    "merged = map_df.merge(covid_df, how='left', left_on=\"NAME_1\", right_on=\"denominazione_regione\") \\\n",
    "                .merge(popolazione, how='left', left_on=\"NAME_1\", right_on='Regione')\n",
    "\n",
    "# Tenere solo le colonne utili\n",
    "merged = merged[[ 'Regione', 'nuovi_positivi', 'Residenti', 'geometry']]\n",
    "\n",
    "# Normalizzazione dei nuovi positivi per ogni 100k abitanti\n",
    "div = lambda x: x[0]*100000/x[1] if 0<(x[0]/x[1])<1 else 0\n",
    "merged['nuovi_positivi_normalizzati'] = list(map(div, zip(merged['nuovi_positivi'], merged['Residenti']))) \n",
    "\n",
    "# Print figura\n",
    "fig, ax = plt.subplots(2, figsize=(12, 17))\n",
    "sm = plt.cm.ScalarMappable(cmap='Blues', norm=plt.Normalize(vmin=0, vmax=max(merged['nuovi_positivi_normalizzati'])))\n",
    "fig.colorbar(sm, ax=ax[0], orientation='vertical')\n",
    "\n",
    "ax[0].axis('off')\n",
    "ax[0].set_title('Nuovi positivi per ogni 100k abitanti', fontdict={'fontsize': '12', 'fontweight' : '3'})\n",
    "\n",
    "# create map\n",
    "merged.plot(column='nuovi_positivi_normalizzati', cmap='Blues', linewidth=0.8, ax=ax[0], edgecolor='0.8')\n",
    "\n",
    "ax[1].barh( merged.index.values, merged['nuovi_positivi'].values, label='nuovi positivi', tick_label=merged['Regione'])\n",
    "ax[1].set_xlabel('Nuovi Positivi')\n",
    "\n",
    "plt.show()\n",
    "#plt.tight_layout()"
   ]
  },
  {
   "cell_type": "markdown",
   "metadata": {},
   "source": [
    "## Tamponi e nuovi  casi\n",
    "Grafico che mette in relazione i nuovi casi con i tamponi giornalieri fatti.  "
   ]
  },
  {
   "cell_type": "code",
   "execution_count": null,
   "metadata": {
    "execution": {
     "iopub.execute_input": "2020-05-02T22:41:35.836514Z",
     "iopub.status.busy": "2020-05-02T22:41:35.835872Z",
     "iopub.status.idle": "2020-05-02T22:41:36.578453Z",
     "shell.execute_reply": "2020-05-02T22:41:36.579326Z"
    },
    "papermill": {
     "duration": 0.770703,
     "end_time": "2020-05-02T22:41:36.579561",
     "exception": false,
     "start_time": "2020-05-02T22:41:35.808858",
     "status": "completed"
    },
    "tags": []
   },
   "outputs": [],
   "source": [
    "# nuovi tamponi giornalieri\n",
    "numero_tamponi = dati[\"tamponi\"].values\n",
    "delta_tamponi = [numero_tamponi[0]]\n",
    "for g in range(len(numero_tamponi) - 1):\n",
    "    delta_tamponi += [numero_tamponi[g+1] - numero_tamponi[g]]\n",
    "ax = create_figure()\n",
    "\n",
    "# percentuale nuovi_positivi/nuovi_tamponi\n",
    "div = lambda x: x[0]/x[1] if 0<(x[0]/x[1])<1 else None\n",
    "ratio_nuovi_pos_nuovi_tamp = list(map(div, list(zip(delta_totale_casi, delta_tamponi))))\n",
    "\n",
    "ax.set_xlabel('Giorni')\n",
    "ax.set_ylabel('Percentuale')\n",
    "\n",
    "bar = ax.bar(giorni, delta_tamponi, label=\"tamponi (giornalmente)\", color=\"orange\")\n",
    "hide_ticks(ax, 2)\n",
    "\n",
    "# double y axis\n",
    "ax2 = ax.twinx()\n",
    "line_positivi = ax2.plot(giorni, ratio_nuovi_pos_nuovi_tamp, label=\"efficacia tamponi\")\n",
    "ax.set_ylabel('Num tamponi')\n",
    "\n",
    "ax2.set_yticks(np.arange(0, 1, step=0.20))\n",
    "ax2.set_yticklabels(percentages)\n",
    "ax2.set_ylabel('Efficacia tamponi')\n",
    "\n",
    "arr = [bar]+line_positivi\n",
    "labs = [a.get_label() for a in arr]\n",
    "ax.legend(arr, labs, fontsize='x-large')\n",
    "\n",
    "plt.show()"
   ]
  }
 ],
 "metadata": {
  "kernelspec": {
   "display_name": "Python 3",
   "language": "python",
   "name": "python3"
  },
  "language_info": {
   "codemirror_mode": {
    "name": "ipython",
    "version": 3
   },
   "file_extension": ".py",
   "mimetype": "text/x-python",
   "name": "python",
   "nbconvert_exporter": "python",
   "pygments_lexer": "ipython3",
   "version": "3.7.4"
  },
  "papermill": {
   "duration": 6.968269,
   "end_time": "2020-05-02T22:41:38.011632",
   "environment_variables": {},
   "exception": null,
   "input_path": "grafici.ipynb",
   "output_path": "grafici.ipynb",
   "parameters": {},
   "start_time": "2020-05-02T22:41:31.043363",
   "version": "2.1.1"
  }
 },
 "nbformat": 4,
 "nbformat_minor": 2
}
